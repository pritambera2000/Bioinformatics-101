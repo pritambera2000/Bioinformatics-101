{
 "cells": [
  {
   "cell_type": "code",
   "execution_count": null,
   "metadata": {},
   "outputs": [
    {
     "name": "stdout",
     "output_type": "stream",
     "text": [
      "Superinformation for sequence AGTCAGTCAGTCAGTC with 3-symbols per block and 5-number of blocks: 0.0\n",
      "Superinformation for sequence AGTCAGTCAGTCAGTC with 2-symbols per block and 8-number of blocks: 0.0\n",
      "Superinformation for sequence ATTGACCCTGTCGAGA with 3-symbols per block and 5-number of blocks: 0.9709505944546686\n",
      "Superinformation for sequence ATTGACCCTGTCGAGA with 2-symbols per block and 8-number of blocks: 0.5435644431995964\n"
     ]
    }
   ],
   "source": [
    "## Import necessary libraries\n",
    "import numpy as np\n",
    "import math\n",
    "\n",
    "def calculate_superinformation(sequence, symbols_per_block, number_of_blocks):\n",
    "    # Step:1 - Create the blocks with desired symbols and block number\n",
    "    def create_blocks(seq, number_of_symbol, number_of_blocks):\n",
    "        blocks = []\n",
    "        for i in range(0, len(seq) - number_of_symbol + 1, number_of_symbol):\n",
    "            block = seq[i:i+number_of_symbol]\n",
    "            if len(block) == number_of_symbol:\n",
    "                blocks.append(block)\n",
    "                if len(blocks) == number_of_blocks:\n",
    "                    break\n",
    "        return blocks\n",
    "    blocks = create_blocks(sequence, symbols_per_block, number_of_blocks)\n",
    "\n",
    "    # Step:2 - Calculate Entropy for each block\n",
    "    def calculate_entropy(block):\n",
    "        # Count the nucleotide occurances in each blocks\n",
    "        symbol_counts = {}\n",
    "        for symbol in block:\n",
    "            symbol_counts[symbol] = symbol_counts.get(symbol, 0) + 1\n",
    "        \n",
    "        # Calculate the entropy a block\n",
    "        block_entropy = 0\n",
    "        for count in symbol_counts.values():\n",
    "            prob = count / len(block)\n",
    "            block_entropy -= prob * math.log2(prob)\n",
    "        return block_entropy\n",
    "    # Calculate the entropies for each block\n",
    "    block_entropies = [calculate_entropy(block) for block in blocks]\n",
    "\n",
    "    # Step:3 Create Histogram of entropies\n",
    "    hist, bin_edges = np.histogram(block_entropies, bins=10)\n",
    "    total_blocks = max(1, len(block_entropies))\n",
    "    probabilities = hist / total_blocks\n",
    "\n",
    "    # Step:5 - Calculate Superinformation\n",
    "    def supinfo(p):\n",
    "        return -p * math.log2(p) if p > 0 else 0\n",
    "    superinformation = sum(supinfo(prob) for prob in probabilities)\n",
    "\n",
    "    return superinformation\n",
    "\n",
    "# Test the Function \n",
    "\n",
    "def main():\n",
    "    # Define the Input Sequences\n",
    "    sequences = [\"AGTCAGTCAGTCAGTC\", #S2\n",
    "                 \"ATTGACCCTGTCGAGA\"  #S3\n",
    "                 ]\n",
    "    symbolsPerBlock_list = [3,2]\n",
    "    block_numbers = [5,8]\n",
    "\n",
    "    for seq in sequences:\n",
    "        for symbolsPerBlock, block_number in zip(symbolsPerBlock_list, block_numbers):\n",
    "            result = calculate_superinformation(seq, symbolsPerBlock, block_number)\n",
    "            print(f\"Superinformation for sequence {seq} with {symbolsPerBlock}-symbols per block and {block_number}-number of blocks: {result}\")\n",
    "\n",
    "# Run the main function\n",
    "if __name__ == \"__main__\":\n",
    "    main()"
   ]
  }
 ],
 "metadata": {
  "kernelspec": {
   "display_name": "base",
   "language": "python",
   "name": "python3"
  },
  "language_info": {
   "codemirror_mode": {
    "name": "ipython",
    "version": 3
   },
   "file_extension": ".py",
   "mimetype": "text/x-python",
   "name": "python",
   "nbconvert_exporter": "python",
   "pygments_lexer": "ipython3",
   "version": "3.12.7"
  }
 },
 "nbformat": 4,
 "nbformat_minor": 2
}
